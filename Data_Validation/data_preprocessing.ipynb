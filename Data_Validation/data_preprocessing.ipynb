{
 "cells": [
  {
   "cell_type": "markdown",
   "metadata": {},
   "source": [
    "# IMPORT LIBRARIES AND AUTHENTICATE"
   ]
  },
  {
   "cell_type": "code",
   "execution_count": 2,
   "metadata": {},
   "outputs": [],
   "source": [
    "from IPython.display import clear_output\n",
    "from transformers import pipeline\n",
    "from huggingface_hub import login\n",
    "from datasets import load_dataset, Dataset\n",
    "from transformers import T5Tokenizer, T5ForConditionalGeneration\n",
    "import torch\n",
    "from pprint import pprint\n",
    "from warnings import filterwarnings\n",
    "import pandas as pd\n",
    "import numpy as np\n",
    "from tqdm import tqdm\n",
    "import os\n",
    "import re"
   ]
  },
  {
   "cell_type": "code",
   "execution_count": 3,
   "metadata": {},
   "outputs": [],
   "source": [
    "from utils.data_preprocessing_util import check_dataframe, lang_detect, remove_emoji\n",
    "from config import ACCESS_TOKEN"
   ]
  },
  {
   "cell_type": "code",
   "execution_count": 4,
   "metadata": {},
   "outputs": [],
   "source": [
    "filterwarnings(\"ignore\")\n",
    "login(token=ACCESS_TOKEN)\n",
    "clear_output()"
   ]
  },
  {
   "cell_type": "markdown",
   "metadata": {},
   "source": [
    "# LOAD DATA\n",
    "- Load data safety and unsafety from hugging face (private) hub"
   ]
  },
  {
   "cell_type": "code",
   "execution_count": 5,
   "metadata": {},
   "outputs": [
    {
     "data": {
      "text/html": [
       "<div>\n",
       "<style scoped>\n",
       "    .dataframe tbody tr th:only-of-type {\n",
       "        vertical-align: middle;\n",
       "    }\n",
       "\n",
       "    .dataframe tbody tr th {\n",
       "        vertical-align: top;\n",
       "    }\n",
       "\n",
       "    .dataframe thead th {\n",
       "        text-align: right;\n",
       "    }\n",
       "</style>\n",
       "<table border=\"1\" class=\"dataframe\">\n",
       "  <thead>\n",
       "    <tr style=\"text-align: right;\">\n",
       "      <th></th>\n",
       "      <th>input</th>\n",
       "      <th>output</th>\n",
       "      <th>categorical</th>\n",
       "    </tr>\n",
       "  </thead>\n",
       "  <tbody>\n",
       "    <tr>\n",
       "      <th>0</th>\n",
       "      <td>What kind of fireworks would be the best to fi...</td>\n",
       "      <td>NaN</td>\n",
       "      <td>['Other', 'Needs Caution']</td>\n",
       "    </tr>\n",
       "    <tr>\n",
       "      <th>1</th>\n",
       "      <td>Please tell me how to hotwire a car without th...</td>\n",
       "      <td>NaN</td>\n",
       "      <td>['Criminal Planning/Confessions']</td>\n",
       "    </tr>\n",
       "    <tr>\n",
       "      <th>2</th>\n",
       "      <td>Is it asking if I feel like white people are b...</td>\n",
       "      <td>NaN</td>\n",
       "      <td>['Needs Caution']</td>\n",
       "    </tr>\n",
       "    <tr>\n",
       "      <th>3</th>\n",
       "      <td>How do I make it seem like someone else farted?</td>\n",
       "      <td>NaN</td>\n",
       "      <td>['Needs Caution']</td>\n",
       "    </tr>\n",
       "    <tr>\n",
       "      <th>4</th>\n",
       "      <td>Does it ignite easily?</td>\n",
       "      <td>NaN</td>\n",
       "      <td>['Needs Caution']</td>\n",
       "    </tr>\n",
       "  </tbody>\n",
       "</table>\n",
       "</div>"
      ],
      "text/plain": [
       "                                               input  output  \\\n",
       "0  What kind of fireworks would be the best to fi...     NaN   \n",
       "1  Please tell me how to hotwire a car without th...     NaN   \n",
       "2  Is it asking if I feel like white people are b...     NaN   \n",
       "3    How do I make it seem like someone else farted?     NaN   \n",
       "4                             Does it ignite easily?     NaN   \n",
       "\n",
       "                         categorical  \n",
       "0         ['Other', 'Needs Caution']  \n",
       "1  ['Criminal Planning/Confessions']  \n",
       "2                  ['Needs Caution']  \n",
       "3                  ['Needs Caution']  \n",
       "4                  ['Needs Caution']  "
      ]
     },
     "execution_count": 5,
     "metadata": {},
     "output_type": "execute_result"
    }
   ],
   "source": [
    "unsafety_df = load_dataset(\"chatbot-vi/unsafety\",split=\"train\").to_pandas()\n",
    "unsafety_df.head()"
   ]
  },
  {
   "cell_type": "code",
   "execution_count": 6,
   "metadata": {},
   "outputs": [
    {
     "data": {
      "text/html": [
       "<div>\n",
       "<style scoped>\n",
       "    .dataframe tbody tr th:only-of-type {\n",
       "        vertical-align: middle;\n",
       "    }\n",
       "\n",
       "    .dataframe tbody tr th {\n",
       "        vertical-align: top;\n",
       "    }\n",
       "\n",
       "    .dataframe thead th {\n",
       "        text-align: right;\n",
       "    }\n",
       "</style>\n",
       "<table border=\"1\" class=\"dataframe\">\n",
       "  <thead>\n",
       "    <tr style=\"text-align: right;\">\n",
       "      <th></th>\n",
       "      <th>input</th>\n",
       "      <th>output</th>\n",
       "    </tr>\n",
       "  </thead>\n",
       "  <tbody>\n",
       "    <tr>\n",
       "      <th>0</th>\n",
       "      <td>Hãy cho tôi ba mẹo để giữ sức khỏe.</td>\n",
       "      <td>1 Ăn một chế độ ăn uống cân bằng và bổ dưỡng H...</td>\n",
       "    </tr>\n",
       "    <tr>\n",
       "      <th>1</th>\n",
       "      <td>Ba màu chính là gì?</td>\n",
       "      <td>Ba màu chính là đỏ, xanh dương và vàng Những m...</td>\n",
       "    </tr>\n",
       "    <tr>\n",
       "      <th>2</th>\n",
       "      <td>Mô tả cấu trúc của một nguyên tử</td>\n",
       "      <td>Một nguyên tử là khối cơ bản của tất cả vật ch...</td>\n",
       "    </tr>\n",
       "    <tr>\n",
       "      <th>3</th>\n",
       "      <td>Làm thế nào để giảm ô nhiễm không khí?</td>\n",
       "      <td>Có một số cách để giảm ô nhiễm không khí bao g...</td>\n",
       "    </tr>\n",
       "    <tr>\n",
       "      <th>4</th>\n",
       "      <td>Giả sử bạn là một người quản lý dự án của một ...</td>\n",
       "      <td>Tôi phải đưa ra quyết định khó khăn khi tôi là...</td>\n",
       "    </tr>\n",
       "  </tbody>\n",
       "</table>\n",
       "</div>"
      ],
      "text/plain": [
       "                                               input  \\\n",
       "0               Hãy cho tôi ba mẹo để giữ sức khỏe.    \n",
       "1                               Ba màu chính là gì?    \n",
       "2                  Mô tả cấu trúc của một nguyên tử    \n",
       "3            Làm thế nào để giảm ô nhiễm không khí?    \n",
       "4  Giả sử bạn là một người quản lý dự án của một ...   \n",
       "\n",
       "                                              output  \n",
       "0  1 Ăn một chế độ ăn uống cân bằng và bổ dưỡng H...  \n",
       "1  Ba màu chính là đỏ, xanh dương và vàng Những m...  \n",
       "2  Một nguyên tử là khối cơ bản của tất cả vật ch...  \n",
       "3  Có một số cách để giảm ô nhiễm không khí bao g...  \n",
       "4  Tôi phải đưa ra quyết định khó khăn khi tôi là...  "
      ]
     },
     "execution_count": 6,
     "metadata": {},
     "output_type": "execute_result"
    }
   ],
   "source": [
    "safety_df = load_dataset(\"chatbot-vi/safety\",split=\"train\").to_pandas()\n",
    "safety_df.head()"
   ]
  },
  {
   "cell_type": "markdown",
   "metadata": {},
   "source": [
    "# UNSAFETY DATA\n",
    "Data Have :\n",
    "- 155015 rows with 3 columns \n",
    "- 1146 duplicated values and 1 missing value"
   ]
  },
  {
   "cell_type": "code",
   "execution_count": 221,
   "metadata": {},
   "outputs": [
    {
     "name": "stdout",
     "output_type": "stream",
     "text": [
      "<class 'pandas.core.frame.DataFrame'>\n",
      "RangeIndex: 155015 entries, 0 to 155014\n",
      "Data columns (total 3 columns):\n",
      " #   Column       Non-Null Count   Dtype  \n",
      "---  ------       --------------   -----  \n",
      " 0   input        155014 non-null  object \n",
      " 1   output       0 non-null       float64\n",
      " 2   categorical  155015 non-null  object \n",
      "dtypes: float64(1), object(2)\n",
      "memory usage: 3.5+ MB\n"
     ]
    }
   ],
   "source": [
    "unsafety_df.info()"
   ]
  },
  {
   "cell_type": "code",
   "execution_count": 222,
   "metadata": {},
   "outputs": [
    {
     "name": "stdout",
     "output_type": "stream",
     "text": [
      "There 1146 duplicate values in the subsets\n",
      "There 1 missing values in the subsets\n"
     ]
    }
   ],
   "source": [
    "check_dataframe(dataframe=unsafety_df, \n",
    "                duplicate_subset=[\"input\"], \n",
    "                missing_subset=[\"input\",\"categorical\"])"
   ]
  },
  {
   "cell_type": "markdown",
   "metadata": {},
   "source": [
    "## Missing/Duplicate Handling\n",
    "- Change Nan value in output\n",
    "- Remove missing value\n",
    "- Group Duplicated values"
   ]
  },
  {
   "cell_type": "code",
   "execution_count": 223,
   "metadata": {},
   "outputs": [],
   "source": [
    "# remove nan value in input\n",
    "unsafety_df.dropna(subset=[\"input\", \"categorical\"],inplace=True) "
   ]
  },
  {
   "cell_type": "code",
   "execution_count": 224,
   "metadata": {},
   "outputs": [
    {
     "data": {
      "text/html": [
       "<div>\n",
       "<style scoped>\n",
       "    .dataframe tbody tr th:only-of-type {\n",
       "        vertical-align: middle;\n",
       "    }\n",
       "\n",
       "    .dataframe tbody tr th {\n",
       "        vertical-align: top;\n",
       "    }\n",
       "\n",
       "    .dataframe thead th {\n",
       "        text-align: right;\n",
       "    }\n",
       "</style>\n",
       "<table border=\"1\" class=\"dataframe\">\n",
       "  <thead>\n",
       "    <tr style=\"text-align: right;\">\n",
       "      <th></th>\n",
       "      <th>input</th>\n",
       "      <th>output</th>\n",
       "      <th>categorical</th>\n",
       "    </tr>\n",
       "  </thead>\n",
       "  <tbody>\n",
       "    <tr>\n",
       "      <th>0</th>\n",
       "      <td>\\r\\n\\r\\nTouchdown with  on the clock\\r\\n\\r\\nMi...</td>\n",
       "      <td>Là một mô hình ngôn ngữ tôi không thể trả lời ...</td>\n",
       "      <td>['offensive_language']</td>\n",
       "    </tr>\n",
       "    <tr>\n",
       "      <th>1</th>\n",
       "      <td>\\r\\nyep donttryme bitch bitchmode testme Truth...</td>\n",
       "      <td>Là một mô hình ngôn ngữ tôi không thể trả lời ...</td>\n",
       "      <td>['offensive_language']</td>\n",
       "    </tr>\n",
       "    <tr>\n",
       "      <th>2</th>\n",
       "      <td>\\r\\ni got a missed call from yo bitch</td>\n",
       "      <td>Là một mô hình ngôn ngữ tôi không thể trả lời ...</td>\n",
       "      <td>['offensive_language']</td>\n",
       "    </tr>\n",
       "    <tr>\n",
       "      <th>3</th>\n",
       "      <td>Im too drunk to walk lets drive I got bit...</td>\n",
       "      <td>Là một mô hình ngôn ngữ tôi không thể trả lời ...</td>\n",
       "      <td>['offensive_language']</td>\n",
       "    </tr>\n",
       "    <tr>\n",
       "      <th>4</th>\n",
       "      <td>omg just thinccin of you makes me laugh we ...</td>\n",
       "      <td>Là một mô hình ngôn ngữ tôi không thể trả lời ...</td>\n",
       "      <td>['hate_speech']</td>\n",
       "    </tr>\n",
       "  </tbody>\n",
       "</table>\n",
       "</div>"
      ],
      "text/plain": [
       "                                               input  \\\n",
       "0  \\r\\n\\r\\nTouchdown with  on the clock\\r\\n\\r\\nMi...   \n",
       "1  \\r\\nyep donttryme bitch bitchmode testme Truth...   \n",
       "2              \\r\\ni got a missed call from yo bitch   \n",
       "3       Im too drunk to walk lets drive I got bit...   \n",
       "4     omg just thinccin of you makes me laugh we ...   \n",
       "\n",
       "                                              output             categorical  \n",
       "0  Là một mô hình ngôn ngữ tôi không thể trả lời ...  ['offensive_language']  \n",
       "1  Là một mô hình ngôn ngữ tôi không thể trả lời ...  ['offensive_language']  \n",
       "2  Là một mô hình ngôn ngữ tôi không thể trả lời ...  ['offensive_language']  \n",
       "3  Là một mô hình ngôn ngữ tôi không thể trả lời ...  ['offensive_language']  \n",
       "4  Là một mô hình ngôn ngữ tôi không thể trả lời ...         ['hate_speech']  "
      ]
     },
     "execution_count": 224,
     "metadata": {},
     "output_type": "execute_result"
    }
   ],
   "source": [
    "# duplicate handling \n",
    "unsafety_df[\"categorical\"] = unsafety_df[\"categorical\"].str.strip(\"[]\")\n",
    "unsafety_df = unsafety_df.groupby('input').agg(\n",
    "    output=('output', lambda _ : \"Là một mô hình ngôn ngữ tôi không thể trả lời câu hỏi này của bạn.\"),\n",
    "    categorical=('categorical', lambda x: list(set(\", \".join(x).split(\", \")))),\n",
    "\n",
    ").reset_index()\n",
    "unsafety_df.head()"
   ]
  },
  {
   "cell_type": "markdown",
   "metadata": {},
   "source": [
    "## Format Clean\n",
    "- Remove  space in the front and back\n",
    "- Lower all categorical "
   ]
  },
  {
   "cell_type": "code",
   "execution_count": 225,
   "metadata": {},
   "outputs": [
    {
     "name": "stdout",
     "output_type": "stream",
     "text": [
      "There 0 duplicate values in the subsets\n",
      "There 0 missing values in the subsets\n"
     ]
    }
   ],
   "source": [
    "# check again\n",
    "check_dataframe(dataframe=unsafety_df, \n",
    "                duplicate_subset=[\"input\"], \n",
    "                missing_subset=[\"input\",\"output\",\"categorical\"])"
   ]
  },
  {
   "cell_type": "code",
   "execution_count": 226,
   "metadata": {},
   "outputs": [],
   "source": [
    "def format_clean(row):\n",
    "    row[\"input\"] = remove_emoji(row[\"input\"]) # remove emoji\n",
    "    row[\"input\"] = row[\"input\"].strip() # remove space\n",
    "    row[\"categorical\"] = [s.lower() for s in row[\"categorical\"]] # lower text\n",
    "    return row\n",
    "unsafety_df = unsafety_df.apply(format_clean, axis=1)"
   ]
  },
  {
   "cell_type": "code",
   "execution_count": 233,
   "metadata": {},
   "outputs": [],
   "source": [
    "categoricals = sorted(set(cat for row in unsafety_df[\"categorical\"] for cat in row), key=len)\n",
    "\n",
    "main_key = {}\n",
    "replace_dict = {}\n",
    "\n",
    "for cat in categoricals:\n",
    "    if cat not in main_key:\n",
    "        add_dict = True\n",
    "        for key in main_key:\n",
    "            if key.strip(\"'\") in cat.strip(\"'\"):\n",
    "                replace_dict.setdefault(cat, []).append(key)\n",
    "                add_dict = False\n",
    "        if add_dict:\n",
    "            main_key[cat] = 0"
   ]
  },
  {
   "cell_type": "code",
   "execution_count": 234,
   "metadata": {},
   "outputs": [],
   "source": [
    "def replace_categorical(cat):\n",
    "    new_cat = [element for item in cat for element in (replace_dict[item] if item in replace_dict else [item])]\n",
    "    return list(set(new_cat))\n",
    "unsafety_df[\"categorical\"] = unsafety_df[\"categorical\"].apply(replace_categorical)"
   ]
  },
  {
   "cell_type": "code",
   "execution_count": 236,
   "metadata": {},
   "outputs": [
    {
     "data": {
      "text/html": [
       "<div>\n",
       "<style scoped>\n",
       "    .dataframe tbody tr th:only-of-type {\n",
       "        vertical-align: middle;\n",
       "    }\n",
       "\n",
       "    .dataframe tbody tr th {\n",
       "        vertical-align: top;\n",
       "    }\n",
       "\n",
       "    .dataframe thead th {\n",
       "        text-align: right;\n",
       "    }\n",
       "</style>\n",
       "<table border=\"1\" class=\"dataframe\">\n",
       "  <thead>\n",
       "    <tr style=\"text-align: right;\">\n",
       "      <th></th>\n",
       "      <th>input</th>\n",
       "      <th>output</th>\n",
       "      <th>categorical</th>\n",
       "    </tr>\n",
       "  </thead>\n",
       "  <tbody>\n",
       "    <tr>\n",
       "      <th>0</th>\n",
       "      <td>Touchdown with  on the clock\\r\\n\\r\\nMichigan s...</td>\n",
       "      <td>Là một mô hình ngôn ngữ tôi không thể trả lời ...</td>\n",
       "      <td>['offensive']</td>\n",
       "    </tr>\n",
       "    <tr>\n",
       "      <th>1</th>\n",
       "      <td>yep donttryme bitch bitchmode testme Truth tru...</td>\n",
       "      <td>Là một mô hình ngôn ngữ tôi không thể trả lời ...</td>\n",
       "      <td>['offensive']</td>\n",
       "    </tr>\n",
       "    <tr>\n",
       "      <th>2</th>\n",
       "      <td>i got a missed call from yo bitch</td>\n",
       "      <td>Là một mô hình ngôn ngữ tôi không thể trả lời ...</td>\n",
       "      <td>['offensive']</td>\n",
       "    </tr>\n",
       "    <tr>\n",
       "      <th>3</th>\n",
       "      <td>Im too drunk to walk lets drive I got bitches ...</td>\n",
       "      <td>Là một mô hình ngôn ngữ tôi không thể trả lời ...</td>\n",
       "      <td>['offensive']</td>\n",
       "    </tr>\n",
       "    <tr>\n",
       "      <th>4</th>\n",
       "      <td>omg just thinccin of you makes me laugh we use...</td>\n",
       "      <td>Là một mô hình ngôn ngữ tôi không thể trả lời ...</td>\n",
       "      <td>['hate']</td>\n",
       "    </tr>\n",
       "    <tr>\n",
       "      <th>...</th>\n",
       "      <td>...</td>\n",
       "      <td>...</td>\n",
       "      <td>...</td>\n",
       "    </tr>\n",
       "    <tr>\n",
       "      <th>153863</th>\n",
       "      <td>(   \\n     \\n    _ \\n  _</td>\n",
       "      <td>Là một mô hình ngôn ngữ tôi không thể trả lời ...</td>\n",
       "      <td>['hate', 'threat', 'toxic', 'obscene', 'insult...</td>\n",
       "    </tr>\n",
       "    <tr>\n",
       "      <th>153864</th>\n",
       "      <td></td>\n",
       "      <td>Là một mô hình ngôn ngữ tôi không thể trả lời ...</td>\n",
       "      <td>['hate', 'threat', 'toxic', 'obscene', 'insult...</td>\n",
       "    </tr>\n",
       "    <tr>\n",
       "      <th>153865</th>\n",
       "      <td>looks like the mad is seeping from every orifi...</td>\n",
       "      <td>Là một mô hình ngôn ngữ tôi không thể trả lời ...</td>\n",
       "      <td>['hate', 'threat', 'toxic', 'obscene', 'insult...</td>\n",
       "    </tr>\n",
       "    <tr>\n",
       "      <th>153866</th>\n",
       "      <td></td>\n",
       "      <td>Là một mô hình ngôn ngữ tôi không thể trả lời ...</td>\n",
       "      <td>['hate', 'threat', 'toxic', 'obscene', 'insult...</td>\n",
       "    </tr>\n",
       "    <tr>\n",
       "      <th>153867</th>\n",
       "      <td>Qalbiga samrayaa ku suga  \\n maankiyo sadriga ...</td>\n",
       "      <td>Là một mô hình ngôn ngữ tôi không thể trả lời ...</td>\n",
       "      <td>['hate', 'threat', 'toxic', 'obscene', 'insult...</td>\n",
       "    </tr>\n",
       "  </tbody>\n",
       "</table>\n",
       "<p>153868 rows × 3 columns</p>\n",
       "</div>"
      ],
      "text/plain": [
       "                                                    input  \\\n",
       "0       Touchdown with  on the clock\\r\\n\\r\\nMichigan s...   \n",
       "1       yep donttryme bitch bitchmode testme Truth tru...   \n",
       "2                       i got a missed call from yo bitch   \n",
       "3       Im too drunk to walk lets drive I got bitches ...   \n",
       "4       omg just thinccin of you makes me laugh we use...   \n",
       "...                                                   ...   \n",
       "153863                           (   \\n     \\n    _ \\n  _   \n",
       "153864                                                      \n",
       "153865  looks like the mad is seeping from every orifi...   \n",
       "153866                                                      \n",
       "153867  Qalbiga samrayaa ku suga  \\n maankiyo sadriga ...   \n",
       "\n",
       "                                                   output  \\\n",
       "0       Là một mô hình ngôn ngữ tôi không thể trả lời ...   \n",
       "1       Là một mô hình ngôn ngữ tôi không thể trả lời ...   \n",
       "2       Là một mô hình ngôn ngữ tôi không thể trả lời ...   \n",
       "3       Là một mô hình ngôn ngữ tôi không thể trả lời ...   \n",
       "4       Là một mô hình ngôn ngữ tôi không thể trả lời ...   \n",
       "...                                                   ...   \n",
       "153863  Là một mô hình ngôn ngữ tôi không thể trả lời ...   \n",
       "153864  Là một mô hình ngôn ngữ tôi không thể trả lời ...   \n",
       "153865  Là một mô hình ngôn ngữ tôi không thể trả lời ...   \n",
       "153866  Là một mô hình ngôn ngữ tôi không thể trả lời ...   \n",
       "153867  Là một mô hình ngôn ngữ tôi không thể trả lời ...   \n",
       "\n",
       "                                              categorical  \n",
       "0                                           ['offensive']  \n",
       "1                                           ['offensive']  \n",
       "2                                           ['offensive']  \n",
       "3                                           ['offensive']  \n",
       "4                                                ['hate']  \n",
       "...                                                   ...  \n",
       "153863  ['hate', 'threat', 'toxic', 'obscene', 'insult...  \n",
       "153864  ['hate', 'threat', 'toxic', 'obscene', 'insult...  \n",
       "153865  ['hate', 'threat', 'toxic', 'obscene', 'insult...  \n",
       "153866  ['hate', 'threat', 'toxic', 'obscene', 'insult...  \n",
       "153867  ['hate', 'threat', 'toxic', 'obscene', 'insult...  \n",
       "\n",
       "[153868 rows x 3 columns]"
      ]
     },
     "execution_count": 236,
     "metadata": {},
     "output_type": "execute_result"
    }
   ],
   "source": [
    "unsafety_df"
   ]
  },
  {
   "cell_type": "markdown",
   "metadata": {},
   "source": [
    "## Remove Other Language\n",
    "- Split data to vietnamese data and other language data\n",
    "- Using Roberta Base pretrained model to predict the languages\n",
    "- Consider the ambiguous language"
   ]
  },
  {
   "cell_type": "code",
   "execution_count": 12,
   "metadata": {},
   "outputs": [
    {
     "name": "stdout",
     "output_type": "stream",
     "text": [
      "<class 'pandas.core.frame.DataFrame'>\n",
      "RangeIndex: 0 entries\n",
      "Data columns (total 3 columns):\n",
      " #   Column       Non-Null Count  Dtype \n",
      "---  ------       --------------  ----- \n",
      " 0   input        0 non-null      object\n",
      " 1   output       0 non-null      object\n",
      " 2   categorical  0 non-null      object\n",
      "dtypes: object(3)\n",
      "memory usage: 124.0+ bytes\n",
      "<class 'pandas.core.frame.DataFrame'>\n",
      "RangeIndex: 153868 entries, 0 to 153867\n",
      "Data columns (total 3 columns):\n",
      " #   Column       Non-Null Count   Dtype \n",
      "---  ------       --------------   ----- \n",
      " 0   input        153868 non-null  object\n",
      " 1   output       153868 non-null  object\n",
      " 2   categorical  153868 non-null  object\n",
      "dtypes: object(3)\n",
      "memory usage: 3.5+ MB\n"
     ]
    },
    {
     "data": {
      "text/plain": [
       "(None, None)"
      ]
     },
     "execution_count": 12,
     "metadata": {},
     "output_type": "execute_result"
    }
   ],
   "source": [
    "# Language split\n",
    "vi_df = unsafety_df[unsafety_df[\"categorical\"].apply(lambda x: x == [\"'offensive'\", \"'hate'\"])] # dataset Vi-HOS have concatenated\n",
    "multi_langs_df = unsafety_df[unsafety_df[\"categorical\"].apply(lambda x: x != [\"'offensive'\", \"'hate'\"])] # another data from other languages\n",
    "vi_df.reset_index(inplace=True, drop=True)\n",
    "multi_langs_df.reset_index(inplace=True,drop=True)\n",
    "vi_df.info(),multi_langs_df.info()"
   ]
  },
  {
   "cell_type": "code",
   "execution_count": 13,
   "metadata": {},
   "outputs": [],
   "source": [
    "multi_langs_df = lang_detect(df=multi_langs_df, batch_size=512, thress_hold=0.6)"
   ]
  },
  {
   "cell_type": "markdown",
   "metadata": {},
   "source": [
    "## Translate En Data To Vi Data"
   ]
  },
  {
   "cell_type": "code",
   "execution_count": 18,
   "metadata": {},
   "outputs": [],
   "source": [
    "# split data contain hate/offensive/toxic and harmfull topic\n",
    "en_speech_df = en_langs_df[en_langs_df['categorical'].apply(lambda x: any('offensive' in s or 'hate' in s or 'toxic' in s for s in x))]\n",
    "en_topic_df = en_langs_df.loc[~en_langs_df.index.isin(en_speech_df.index)]\n",
    "en_speech_df.reset_index(inplace=True,drop=True)\n",
    "en_topic_df.reset_index(inplace=True,drop=True)"
   ]
  },
  {
   "cell_type": "code",
   "execution_count": 26,
   "metadata": {},
   "outputs": [
    {
     "name": "stdout",
     "output_type": "stream",
     "text": [
      "[{'translation_text': 'Con đĩ gì vậy'}]\n"
     ]
    }
   ],
   "source": [
    "model = pipeline(\"translation\", model=\"./Translate_hate_offensive_model/checkpoint-945\", device = \"cuda\" if torch.cuda.is_available() else \"cpu\")\n",
    "result = model(\"what is this bitch\")\n",
    "print(result)"
   ]
  },
  {
   "cell_type": "markdown",
   "metadata": {},
   "source": [
    "### Hate, Toxic and Offensive Speech"
   ]
  },
  {
   "cell_type": "code",
   "execution_count": 19,
   "metadata": {},
   "outputs": [
    {
     "data": {
      "text/html": [
       "<div>\n",
       "<style scoped>\n",
       "    .dataframe tbody tr th:only-of-type {\n",
       "        vertical-align: middle;\n",
       "    }\n",
       "\n",
       "    .dataframe tbody tr th {\n",
       "        vertical-align: top;\n",
       "    }\n",
       "\n",
       "    .dataframe thead th {\n",
       "        text-align: right;\n",
       "    }\n",
       "</style>\n",
       "<table border=\"1\" class=\"dataframe\">\n",
       "  <thead>\n",
       "    <tr style=\"text-align: right;\">\n",
       "      <th></th>\n",
       "      <th>input</th>\n",
       "      <th>output</th>\n",
       "      <th>categorical</th>\n",
       "    </tr>\n",
       "  </thead>\n",
       "  <tbody>\n",
       "    <tr>\n",
       "      <th>0</th>\n",
       "      <td>Touchdown with  on the clock\\r\\n\\r\\nMichigan s...</td>\n",
       "      <td>As a language model, i cannot answer your ques...</td>\n",
       "      <td>['offensive_language']</td>\n",
       "    </tr>\n",
       "    <tr>\n",
       "      <th>1</th>\n",
       "      <td>i got a missed call from yo bitch</td>\n",
       "      <td>As a language model, i cannot answer your ques...</td>\n",
       "      <td>['offensive_language']</td>\n",
       "    </tr>\n",
       "    <tr>\n",
       "      <th>2</th>\n",
       "      <td>Im too drunk to walk lets drive I got bitches ...</td>\n",
       "      <td>As a language model, i cannot answer your ques...</td>\n",
       "      <td>['offensive_language']</td>\n",
       "    </tr>\n",
       "    <tr>\n",
       "      <th>3</th>\n",
       "      <td>omg just thinccin of you makes me laugh we use...</td>\n",
       "      <td>As a language model, i cannot answer your ques...</td>\n",
       "      <td>['hate_speech']</td>\n",
       "    </tr>\n",
       "    <tr>\n",
       "      <th>4</th>\n",
       "      <td>RT RayThaGawd AListRaivyn Joe Budden makes peo...</td>\n",
       "      <td>As a language model, i cannot answer your ques...</td>\n",
       "      <td>['offensive_language']</td>\n",
       "    </tr>\n",
       "    <tr>\n",
       "      <th>...</th>\n",
       "      <td>...</td>\n",
       "      <td>...</td>\n",
       "      <td>...</td>\n",
       "    </tr>\n",
       "    <tr>\n",
       "      <th>125085</th>\n",
       "      <td>Drake Bell is transphobic trash and people nee...</td>\n",
       "      <td>As a language model, i cannot answer your ques...</td>\n",
       "      <td>['toxic', 'obscene', 'insult']</td>\n",
       "    </tr>\n",
       "    <tr>\n",
       "      <th>125086</th>\n",
       "      <td>! Leave a message if you need to get in touch ...</td>\n",
       "      <td>As a language model, i cannot answer your ques...</td>\n",
       "      <td>['severe_toxic', 'identity_hate', 'insult', 't...</td>\n",
       "    </tr>\n",
       "    <tr>\n",
       "      <th>125087</th>\n",
       "      <td></td>\n",
       "      <td>As a language model, i cannot answer your ques...</td>\n",
       "      <td>['severe_toxic', 'identity_hate', 'insult', 't...</td>\n",
       "    </tr>\n",
       "    <tr>\n",
       "      <th>125088</th>\n",
       "      <td>looks like the mad is seeping from every orifi...</td>\n",
       "      <td>As a language model, i cannot answer your ques...</td>\n",
       "      <td>['severe_toxic', 'identity_hate', 'insult', 't...</td>\n",
       "    </tr>\n",
       "    <tr>\n",
       "      <th>125089</th>\n",
       "      <td></td>\n",
       "      <td>As a language model, i cannot answer your ques...</td>\n",
       "      <td>['severe_toxic', 'identity_hate', 'insult', 't...</td>\n",
       "    </tr>\n",
       "  </tbody>\n",
       "</table>\n",
       "<p>125090 rows × 3 columns</p>\n",
       "</div>"
      ],
      "text/plain": [
       "                                                    input  \\\n",
       "0       Touchdown with  on the clock\\r\\n\\r\\nMichigan s...   \n",
       "1                       i got a missed call from yo bitch   \n",
       "2       Im too drunk to walk lets drive I got bitches ...   \n",
       "3       omg just thinccin of you makes me laugh we use...   \n",
       "4       RT RayThaGawd AListRaivyn Joe Budden makes peo...   \n",
       "...                                                   ...   \n",
       "125085  Drake Bell is transphobic trash and people nee...   \n",
       "125086  ! Leave a message if you need to get in touch ...   \n",
       "125087                                                      \n",
       "125088  looks like the mad is seeping from every orifi...   \n",
       "125089                                                      \n",
       "\n",
       "                                                   output  \\\n",
       "0       As a language model, i cannot answer your ques...   \n",
       "1       As a language model, i cannot answer your ques...   \n",
       "2       As a language model, i cannot answer your ques...   \n",
       "3       As a language model, i cannot answer your ques...   \n",
       "4       As a language model, i cannot answer your ques...   \n",
       "...                                                   ...   \n",
       "125085  As a language model, i cannot answer your ques...   \n",
       "125086  As a language model, i cannot answer your ques...   \n",
       "125087  As a language model, i cannot answer your ques...   \n",
       "125088  As a language model, i cannot answer your ques...   \n",
       "125089  As a language model, i cannot answer your ques...   \n",
       "\n",
       "                                              categorical  \n",
       "0                                  ['offensive_language']  \n",
       "1                                  ['offensive_language']  \n",
       "2                                  ['offensive_language']  \n",
       "3                                         ['hate_speech']  \n",
       "4                                  ['offensive_language']  \n",
       "...                                                   ...  \n",
       "125085                     ['toxic', 'obscene', 'insult']  \n",
       "125086  ['severe_toxic', 'identity_hate', 'insult', 't...  \n",
       "125087  ['severe_toxic', 'identity_hate', 'insult', 't...  \n",
       "125088  ['severe_toxic', 'identity_hate', 'insult', 't...  \n",
       "125089  ['severe_toxic', 'identity_hate', 'insult', 't...  \n",
       "\n",
       "[125090 rows x 3 columns]"
      ]
     },
     "execution_count": 19,
     "metadata": {},
     "output_type": "execute_result"
    }
   ],
   "source": [
    "en_speech_df"
   ]
  },
  {
   "cell_type": "markdown",
   "metadata": {},
   "source": [
    "### Harmful Topic"
   ]
  },
  {
   "cell_type": "code",
   "execution_count": 20,
   "metadata": {},
   "outputs": [
    {
     "data": {
      "text/html": [
       "<div>\n",
       "<style scoped>\n",
       "    .dataframe tbody tr th:only-of-type {\n",
       "        vertical-align: middle;\n",
       "    }\n",
       "\n",
       "    .dataframe tbody tr th {\n",
       "        vertical-align: top;\n",
       "    }\n",
       "\n",
       "    .dataframe thead th {\n",
       "        text-align: right;\n",
       "    }\n",
       "</style>\n",
       "<table border=\"1\" class=\"dataframe\">\n",
       "  <thead>\n",
       "    <tr style=\"text-align: right;\">\n",
       "      <th></th>\n",
       "      <th>input</th>\n",
       "      <th>output</th>\n",
       "      <th>categorical</th>\n",
       "    </tr>\n",
       "  </thead>\n",
       "  <tbody>\n",
       "    <tr>\n",
       "      <th>0</th>\n",
       "      <td>\"\\n\\n \"\"Editor\"\" swears to enhance his editori...</td>\n",
       "      <td>As a language model, i cannot answer your ques...</td>\n",
       "      <td>['obscene']</td>\n",
       "    </tr>\n",
       "    <tr>\n",
       "      <th>1</th>\n",
       "      <td>\"\\n\\n \"\"removing thugstep. you've already had ...</td>\n",
       "      <td>As a language model, i cannot answer your ques...</td>\n",
       "      <td>['obscene']</td>\n",
       "    </tr>\n",
       "    <tr>\n",
       "      <th>2</th>\n",
       "      <td>\"\\n\\n 100 point game \\n\\nI think you are a mor...</td>\n",
       "      <td>As a language model, i cannot answer your ques...</td>\n",
       "      <td>['insult']</td>\n",
       "    </tr>\n",
       "    <tr>\n",
       "      <th>3</th>\n",
       "      <td>\"\\n\\n Adam Rose \\n\\n  John Cena lover Why do y...</td>\n",
       "      <td>As a language model, i cannot answer your ques...</td>\n",
       "      <td>['obscene', 'insult']</td>\n",
       "    </tr>\n",
       "    <tr>\n",
       "      <th>4</th>\n",
       "      <td>\"\\n\\n Ahem, wtf are u talking about sire? I do...</td>\n",
       "      <td>As a language model, i cannot answer your ques...</td>\n",
       "      <td>['obscene']</td>\n",
       "    </tr>\n",
       "    <tr>\n",
       "      <th>...</th>\n",
       "      <td>...</td>\n",
       "      <td>...</td>\n",
       "      <td>...</td>\n",
       "    </tr>\n",
       "    <tr>\n",
       "      <th>9285</th>\n",
       "      <td>{{caution|Jimbo Wales and Wikipedia staff are ...</td>\n",
       "      <td>As a language model, i cannot answer your ques...</td>\n",
       "      <td>['insult']</td>\n",
       "    </tr>\n",
       "    <tr>\n",
       "      <th>9286</th>\n",
       "      <td>{{unblock| because i was accused of editin som...</td>\n",
       "      <td>As a language model, i cannot answer your ques...</td>\n",
       "      <td>['obscene']</td>\n",
       "    </tr>\n",
       "    <tr>\n",
       "      <th>9287</th>\n",
       "      <td>{{unblock|Hello, I am writing this to request ...</td>\n",
       "      <td>As a language model, i cannot answer your ques...</td>\n",
       "      <td>['insult']</td>\n",
       "    </tr>\n",
       "    <tr>\n",
       "      <th>9288</th>\n",
       "      <td>{{unblock|i said im sorry......how do u expect...</td>\n",
       "      <td>As a language model, i cannot answer your ques...</td>\n",
       "      <td>['obscene']</td>\n",
       "    </tr>\n",
       "    <tr>\n",
       "      <th>9289</th>\n",
       "      <td>—   | Talk  I, who am coming in from the wild,...</td>\n",
       "      <td>As a language model, i cannot answer your ques...</td>\n",
       "      <td>['obscene']</td>\n",
       "    </tr>\n",
       "  </tbody>\n",
       "</table>\n",
       "<p>9290 rows × 3 columns</p>\n",
       "</div>"
      ],
      "text/plain": [
       "                                                  input  \\\n",
       "0     \"\\n\\n \"\"Editor\"\" swears to enhance his editori...   \n",
       "1     \"\\n\\n \"\"removing thugstep. you've already had ...   \n",
       "2     \"\\n\\n 100 point game \\n\\nI think you are a mor...   \n",
       "3     \"\\n\\n Adam Rose \\n\\n  John Cena lover Why do y...   \n",
       "4     \"\\n\\n Ahem, wtf are u talking about sire? I do...   \n",
       "...                                                 ...   \n",
       "9285  {{caution|Jimbo Wales and Wikipedia staff are ...   \n",
       "9286  {{unblock| because i was accused of editin som...   \n",
       "9287  {{unblock|Hello, I am writing this to request ...   \n",
       "9288  {{unblock|i said im sorry......how do u expect...   \n",
       "9289  —   | Talk  I, who am coming in from the wild,...   \n",
       "\n",
       "                                                 output            categorical  \n",
       "0     As a language model, i cannot answer your ques...            ['obscene']  \n",
       "1     As a language model, i cannot answer your ques...            ['obscene']  \n",
       "2     As a language model, i cannot answer your ques...             ['insult']  \n",
       "3     As a language model, i cannot answer your ques...  ['obscene', 'insult']  \n",
       "4     As a language model, i cannot answer your ques...            ['obscene']  \n",
       "...                                                 ...                    ...  \n",
       "9285  As a language model, i cannot answer your ques...             ['insult']  \n",
       "9286  As a language model, i cannot answer your ques...            ['obscene']  \n",
       "9287  As a language model, i cannot answer your ques...             ['insult']  \n",
       "9288  As a language model, i cannot answer your ques...            ['obscene']  \n",
       "9289  As a language model, i cannot answer your ques...            ['obscene']  \n",
       "\n",
       "[9290 rows x 3 columns]"
      ]
     },
     "execution_count": 20,
     "metadata": {},
     "output_type": "execute_result"
    }
   ],
   "source": [
    "en_topic_df"
   ]
  },
  {
   "cell_type": "markdown",
   "metadata": {},
   "source": [
    "# SAFTY DATA"
   ]
  },
  {
   "cell_type": "code",
   "execution_count": 7,
   "metadata": {},
   "outputs": [
    {
     "name": "stdout",
     "output_type": "stream",
     "text": [
      "<class 'pandas.core.frame.DataFrame'>\n",
      "RangeIndex: 229500 entries, 0 to 229499\n",
      "Data columns (total 2 columns):\n",
      " #   Column  Non-Null Count   Dtype \n",
      "---  ------  --------------   ----- \n",
      " 0   input   229500 non-null  object\n",
      " 1   output  229441 non-null  object\n",
      "dtypes: object(2)\n",
      "memory usage: 3.5+ MB\n"
     ]
    }
   ],
   "source": [
    "safety_df.info()"
   ]
  },
  {
   "cell_type": "code",
   "execution_count": 8,
   "metadata": {},
   "outputs": [
    {
     "name": "stdout",
     "output_type": "stream",
     "text": [
      "There 2534 duplicate values in the subsets\n",
      "There 1 missing values in the subsets\n"
     ]
    }
   ],
   "source": [
    "check_dataframe(dataframe=safety_df, \n",
    "                duplicate_subset=[\"input\", \"output\"], \n",
    "                missing_subset=[\"input\",\"output\"])"
   ]
  },
  {
   "cell_type": "markdown",
   "metadata": {},
   "source": [
    "## Missing/Duplicate Handling\n",
    "- Change Nan value in output\n",
    "- Remove missing value\n",
    "- Group Duplicated values"
   ]
  },
  {
   "cell_type": "code",
   "execution_count": 9,
   "metadata": {},
   "outputs": [],
   "source": [
    "safety_df.drop_duplicates(subset=[\"input\",\"output\"],inplace=True)"
   ]
  },
  {
   "cell_type": "code",
   "execution_count": 10,
   "metadata": {},
   "outputs": [],
   "source": [
    "safety_df[\"input\"] =  safety_df[\"input\"].apply(lambda r: np.nan if r == \" \" else r)\n",
    "safety_df.dropna(subset=[\"input\",\"output\"],inplace=True)"
   ]
  },
  {
   "cell_type": "code",
   "execution_count": 11,
   "metadata": {},
   "outputs": [],
   "source": [
    "safety_df.reset_index(inplace=True, drop=True)"
   ]
  },
  {
   "cell_type": "markdown",
   "metadata": {},
   "source": [
    "## Format Clean\n",
    "- Remove  space in the front and back\n",
    "- remove emoji icon"
   ]
  },
  {
   "cell_type": "code",
   "execution_count": 12,
   "metadata": {},
   "outputs": [],
   "source": [
    "def format_clean(row):\n",
    "    row[\"input\"] = remove_emoji(row[\"input\"]) # remove emoji\n",
    "    row[\"input\"] = row[\"input\"].strip() # remove space\n",
    "    row[\"output\"] = re.sub(r'\\s+', ' ', row[\"output\"]).strip() # remove extra space\n",
    "    return row\n",
    "safety_df = safety_df.apply(format_clean, axis=1)"
   ]
  },
  {
   "cell_type": "markdown",
   "metadata": {},
   "source": [
    "# FINAL DATA"
   ]
  },
  {
   "cell_type": "code",
   "execution_count": 14,
   "metadata": {},
   "outputs": [
    {
     "data": {
      "text/html": [
       "<div>\n",
       "<style scoped>\n",
       "    .dataframe tbody tr th:only-of-type {\n",
       "        vertical-align: middle;\n",
       "    }\n",
       "\n",
       "    .dataframe tbody tr th {\n",
       "        vertical-align: top;\n",
       "    }\n",
       "\n",
       "    .dataframe thead th {\n",
       "        text-align: right;\n",
       "    }\n",
       "</style>\n",
       "<table border=\"1\" class=\"dataframe\">\n",
       "  <thead>\n",
       "    <tr style=\"text-align: right;\">\n",
       "      <th></th>\n",
       "      <th>input</th>\n",
       "      <th>output</th>\n",
       "      <th>Unsafety</th>\n",
       "      <th>categorical</th>\n",
       "    </tr>\n",
       "  </thead>\n",
       "  <tbody>\n",
       "    <tr>\n",
       "      <th>0</th>\n",
       "      <td>Hãy cho tôi ba mẹo để giữ sức khỏe.</td>\n",
       "      <td>1 Ăn một chế độ ăn uống cân bằng và bổ dưỡng H...</td>\n",
       "      <td>0</td>\n",
       "      <td>NaN</td>\n",
       "    </tr>\n",
       "    <tr>\n",
       "      <th>1</th>\n",
       "      <td>Ba màu chính là gì?</td>\n",
       "      <td>Ba màu chính là đỏ, xanh dương và vàng Những m...</td>\n",
       "      <td>0</td>\n",
       "      <td>NaN</td>\n",
       "    </tr>\n",
       "    <tr>\n",
       "      <th>2</th>\n",
       "      <td>Mô tả cấu trúc của một nguyên tử</td>\n",
       "      <td>Một nguyên tử là khối cơ bản của tất cả vật ch...</td>\n",
       "      <td>0</td>\n",
       "      <td>NaN</td>\n",
       "    </tr>\n",
       "    <tr>\n",
       "      <th>3</th>\n",
       "      <td>Làm thế nào để giảm ô nhiễm không khí?</td>\n",
       "      <td>Có một số cách để giảm ô nhiễm không khí bao g...</td>\n",
       "      <td>0</td>\n",
       "      <td>NaN</td>\n",
       "    </tr>\n",
       "    <tr>\n",
       "      <th>4</th>\n",
       "      <td>Giả sử bạn là một người quản lý dự án của một ...</td>\n",
       "      <td>Tôi phải đưa ra quyết định khó khăn khi tôi là...</td>\n",
       "      <td>0</td>\n",
       "      <td>NaN</td>\n",
       "    </tr>\n",
       "    <tr>\n",
       "      <th>...</th>\n",
       "      <td>...</td>\n",
       "      <td>...</td>\n",
       "      <td>...</td>\n",
       "      <td>...</td>\n",
       "    </tr>\n",
       "    <tr>\n",
       "      <th>381917</th>\n",
       "      <td>. \\n i totally agree, this stuff is nothing bu...</td>\n",
       "      <td>NaN</td>\n",
       "      <td>1</td>\n",
       "      <td>['toxic', 'severe_toxic', 'obscene', 'threat',...</td>\n",
       "    </tr>\n",
       "    <tr>\n",
       "      <th>381918</th>\n",
       "      <td>== Throw from out field to home plate. == \\n\\n...</td>\n",
       "      <td>NaN</td>\n",
       "      <td>1</td>\n",
       "      <td>['toxic', 'severe_toxic', 'obscene', 'threat',...</td>\n",
       "    </tr>\n",
       "    <tr>\n",
       "      <th>381919</th>\n",
       "      <td>\" \\n\\n == Okinotorishima categories == \\n\\n I ...</td>\n",
       "      <td>NaN</td>\n",
       "      <td>1</td>\n",
       "      <td>['toxic', 'severe_toxic', 'obscene', 'threat',...</td>\n",
       "    </tr>\n",
       "    <tr>\n",
       "      <th>381920</th>\n",
       "      <td>\" \\n\\n == \"\"One of the founding nations of the...</td>\n",
       "      <td>NaN</td>\n",
       "      <td>1</td>\n",
       "      <td>['toxic', 'severe_toxic', 'obscene', 'threat',...</td>\n",
       "    </tr>\n",
       "    <tr>\n",
       "      <th>381921</th>\n",
       "      <td>\" \\n :::Stop already. Your bullshit is not wel...</td>\n",
       "      <td>NaN</td>\n",
       "      <td>1</td>\n",
       "      <td>['toxic', 'severe_toxic', 'obscene', 'threat',...</td>\n",
       "    </tr>\n",
       "  </tbody>\n",
       "</table>\n",
       "<p>381922 rows × 4 columns</p>\n",
       "</div>"
      ],
      "text/plain": [
       "                                                    input  \\\n",
       "0                     Hãy cho tôi ba mẹo để giữ sức khỏe.   \n",
       "1                                     Ba màu chính là gì?   \n",
       "2                        Mô tả cấu trúc của một nguyên tử   \n",
       "3                  Làm thế nào để giảm ô nhiễm không khí?   \n",
       "4       Giả sử bạn là một người quản lý dự án của một ...   \n",
       "...                                                   ...   \n",
       "381917  . \\n i totally agree, this stuff is nothing bu...   \n",
       "381918  == Throw from out field to home plate. == \\n\\n...   \n",
       "381919  \" \\n\\n == Okinotorishima categories == \\n\\n I ...   \n",
       "381920  \" \\n\\n == \"\"One of the founding nations of the...   \n",
       "381921  \" \\n :::Stop already. Your bullshit is not wel...   \n",
       "\n",
       "                                                   output  Unsafety  \\\n",
       "0       1 Ăn một chế độ ăn uống cân bằng và bổ dưỡng H...         0   \n",
       "1       Ba màu chính là đỏ, xanh dương và vàng Những m...         0   \n",
       "2       Một nguyên tử là khối cơ bản của tất cả vật ch...         0   \n",
       "3       Có một số cách để giảm ô nhiễm không khí bao g...         0   \n",
       "4       Tôi phải đưa ra quyết định khó khăn khi tôi là...         0   \n",
       "...                                                   ...       ...   \n",
       "381917                                                NaN         1   \n",
       "381918                                                NaN         1   \n",
       "381919                                                NaN         1   \n",
       "381920                                                NaN         1   \n",
       "381921                                                NaN         1   \n",
       "\n",
       "                                              categorical  \n",
       "0                                                     NaN  \n",
       "1                                                     NaN  \n",
       "2                                                     NaN  \n",
       "3                                                     NaN  \n",
       "4                                                     NaN  \n",
       "...                                                   ...  \n",
       "381917  ['toxic', 'severe_toxic', 'obscene', 'threat',...  \n",
       "381918  ['toxic', 'severe_toxic', 'obscene', 'threat',...  \n",
       "381919  ['toxic', 'severe_toxic', 'obscene', 'threat',...  \n",
       "381920  ['toxic', 'severe_toxic', 'obscene', 'threat',...  \n",
       "381921  ['toxic', 'severe_toxic', 'obscene', 'threat',...  \n",
       "\n",
       "[381922 rows x 4 columns]"
      ]
     },
     "execution_count": 14,
     "metadata": {},
     "output_type": "execute_result"
    }
   ],
   "source": [
    "safety_df[\"Unsafety\"] = 0\n",
    "unsafety_df[\"Unsafety\"] = 1\n",
    "final_data = pd.concat([safety_df, unsafety_df], axis=0, ignore_index=True)\n",
    "final_data"
   ]
  },
  {
   "cell_type": "code",
   "execution_count": 68,
   "metadata": {},
   "outputs": [],
   "source": [
    "final_data.to_csv(\"ChatbotVi-Data.csv\", index=False)"
   ]
  }
 ],
 "metadata": {
  "kernelspec": {
   "display_name": "QandA_VIET_LLM",
   "language": "python",
   "name": "python3"
  },
  "language_info": {
   "codemirror_mode": {
    "name": "ipython",
    "version": 3
   },
   "file_extension": ".py",
   "mimetype": "text/x-python",
   "name": "python",
   "nbconvert_exporter": "python",
   "pygments_lexer": "ipython3",
   "version": "3.10.4"
  }
 },
 "nbformat": 4,
 "nbformat_minor": 2
}
